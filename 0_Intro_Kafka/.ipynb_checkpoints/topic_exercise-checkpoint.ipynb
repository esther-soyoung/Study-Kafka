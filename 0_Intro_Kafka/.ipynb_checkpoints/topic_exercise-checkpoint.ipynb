{
 "cells": [
  {
   "cell_type": "markdown",
   "metadata": {},
   "source": [
    "### Creating topic named esther-topic"
   ]
  },
  {
   "cell_type": "code",
   "execution_count": null,
   "metadata": {},
   "outputs": [],
   "source": [
    "/usr/local/kafka/bin/kafka-topics.sh \\\n",
    "            --zookeeper esther-zk001:2181,esther-zk002:2181,esther-zk003:2181/esther-kafka \\\n",
    "            --replication-factor 3 --partitions 1 --topic esther-topic --create"
   ]
  },
  {
   "cell_type": "markdown",
   "metadata": {},
   "source": [
    "### Topic description"
   ]
  },
  {
   "cell_type": "code",
   "execution_count": null,
   "metadata": {},
   "outputs": [],
   "source": [
    "/usr/local/kafka/bin/kafka-topics.sh \\\n",
    "            --zookeeper esther-zk001/esther-kafka \\\n",
    "            --topic esther-topic --describe"
   ]
  },
  {
   "cell_type": "markdown",
   "metadata": {},
   "source": [
    "### Deleting topic\n",
    "`delete.topic.enable = true`"
   ]
  },
  {
   "cell_type": "code",
   "execution_count": null,
   "metadata": {},
   "outputs": [],
   "source": [
    "/usr/local/kafka/bin/kafka-topics.sh \\\n",
    "            --zookeeper esther-zk001:2181,esther-zk002:2181,esther-zk003:2181/esther-kafka \\\n",
    "            --topic esther-topic --delete"
   ]
  },
  {
   "cell_type": "markdown",
   "metadata": {},
   "source": [
    "### Publish message from producer"
   ]
  },
  {
   "cell_type": "code",
   "execution_count": null,
   "metadata": {},
   "outputs": [],
   "source": [
    "# broker list: esther-kafka001,002,003\n",
    "# port number: 9092\n",
    "\n",
    "/usr/local/kafka/bin/kafka-console-producer.sh \\\n",
    "            --broker-list esther-kafka001:9092,esther-kafka002:9092,esther-kafka003:9092 \\\n",
    "            --topic esther-topic"
   ]
  },
  {
   "cell_type": "markdown",
   "metadata": {},
   "source": [
    "### Read message by consumer"
   ]
  },
  {
   "cell_type": "code",
   "execution_count": null,
   "metadata": {},
   "outputs": [],
   "source": [
    "/usr/local/kafka/bin/kafka-console-consumer.sh \\\n",
    "            --bootstrap-server esther-kafka001:9092,esther-kafka002:9092,esther-kafka003:9092 \\\n",
    "            --topic esther-topic --from-beginning"
   ]
  },
  {
   "cell_type": "markdown",
   "metadata": {},
   "source": [
    "### Reference\n",
    "[카프카, 데이터 플랫폼의 최강자](https://github.com/onlybooks/kafka/)"
   ]
  }
 ],
 "metadata": {
  "kernelspec": {
   "display_name": "Python 3",
   "language": "python",
   "name": "python3"
  },
  "language_info": {
   "codemirror_mode": {
    "name": "ipython",
    "version": 3
   },
   "file_extension": ".py",
   "mimetype": "text/x-python",
   "name": "python",
   "nbconvert_exporter": "python",
   "pygments_lexer": "ipython3",
   "version": "3.6.4"
  }
 },
 "nbformat": 4,
 "nbformat_minor": 2
}
